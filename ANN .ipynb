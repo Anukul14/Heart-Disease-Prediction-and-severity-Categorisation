{
  "nbformat": 4,
  "nbformat_minor": 0,
  "metadata": {
    "colab": {
      "name": "ANN",
      "provenance": [],
      "collapsed_sections": []
    },
    "kernelspec": {
      "name": "python3",
      "display_name": "Python 3"
    },
    "language_info": {
      "name": "python"
    }
  },
  "cells": [
    {
      "cell_type": "code",
      "metadata": {
        "id": "-p4X4oty1gwI"
      },
      "source": [
        "import numpy as np\n",
        "import pandas as pd"
      ],
      "execution_count": null,
      "outputs": []
    },
    {
      "cell_type": "code",
      "metadata": {
        "id": "180UAkvZ2FBW"
      },
      "source": [
        "dataset=pd.read_csv(\"/content/heart_diagnosis.csv\")\n",
        "\n",
        "#The dataset contained '?' in some rows of two columns,\n",
        "#so I had to remove all those rows.\n",
        "\n",
        "dataset.drop(data[data['ca']=='?'].index,inplace=True)\n",
        "dataset.drop(data[data[\"thal\"]=='?'].index,inplace=True)\n",
        "# data"
      ],
      "execution_count": null,
      "outputs": []
    },
    {
      "cell_type": "code",
      "metadata": {
        "id": "HEe_cACj2nwb"
      },
      "source": [
        "#Changing pandas dataframe to numpy array\n",
        "X = dataset.iloc[:,:13].values\n",
        "y = dataset.iloc[:,13:14].values"
      ],
      "execution_count": null,
      "outputs": []
    },
    {
      "cell_type": "code",
      "metadata": {
        "id": "D9emRMfW2WDe"
      },
      "source": [
        "from sklearn.preprocessing import StandardScaler\n",
        "sc=StandardScaler()\n",
        "X=sc.fit_transform(X)"
      ],
      "execution_count": null,
      "outputs": []
    },
    {
      "cell_type": "code",
      "metadata": {
        "id": "DywdqWZI3SfH"
      },
      "source": [
        "from sklearn.preprocessing import OneHotEncoder\n",
        "ohe = OneHotEncoder()\n",
        "y = ohe.fit_transform(y).toarray()"
      ],
      "execution_count": null,
      "outputs": []
    },
    {
      "cell_type": "code",
      "metadata": {
        "id": "AHUe4_vg3W4y"
      },
      "source": [
        "from sklearn.model_selection import train_test_split\n",
        "X_train,X_test,y_train,y_test = train_test_split(X,y,test_size = 0.1)"
      ],
      "execution_count": null,
      "outputs": []
    },
    {
      "cell_type": "code",
      "metadata": {
        "id": "2e59BSmC3dXw"
      },
      "source": [
        "#Dependencies\n",
        "import keras\n",
        "from keras.models import Sequential\n",
        "from keras.layers import Dense\n",
        "# # Neural network\n",
        "model = Sequential()\n",
        "model.add(Dense(13, input_dim=13, activation='relu'))\n",
        "# model.add(Dense(12, activation='relu'))\n",
        "model.add(Dense(8,activation='relu'))\n",
        "model.add(Dense(5, activation='softmax'))"
      ],
      "execution_count": null,
      "outputs": []
    },
    {
      "cell_type": "code",
      "metadata": {
        "id": "M12vbNzp3z4g"
      },
      "source": [
        "# model = Sequential()\n",
        "# model.add(Dense(16, input_dim=13, activation='relu'))\n",
        "# model.add(Dense(12, activation='relu'))\n",
        "# model.add(Dense(5, activation='softmax'))\n",
        "\n",
        "model.compile(loss='categorical_crossentropy', optimizer='adam', metrics=['accuracy'])"
      ],
      "execution_count": null,
      "outputs": []
    },
    {
      "cell_type": "code",
      "metadata": {
        "colab": {
          "base_uri": "https://localhost:8080/"
        },
        "id": "whxxyO7KGnBZ",
        "outputId": "03750f45-8662-46b0-b0f0-0f2286003986"
      },
      "source": [
        "history = model.fit(X_train, y_train,validation_data = (X_test,y_test), epochs=100, batch_size=64)"
      ],
      "execution_count": null,
      "outputs": [
        {
          "output_type": "stream",
          "text": [
            "Epoch 1/100\n",
            "5/5 [==============================] - 1s 58ms/step - loss: 1.8478 - accuracy: 0.1362 - val_loss: 1.8250 - val_accuracy: 0.1667\n",
            "Epoch 2/100\n",
            "5/5 [==============================] - 0s 13ms/step - loss: 1.7906 - accuracy: 0.1498 - val_loss: 1.7729 - val_accuracy: 0.1667\n",
            "Epoch 3/100\n",
            "5/5 [==============================] - 0s 14ms/step - loss: 1.7560 - accuracy: 0.1524 - val_loss: 1.7243 - val_accuracy: 0.1667\n",
            "Epoch 4/100\n",
            "5/5 [==============================] - 0s 14ms/step - loss: 1.7196 - accuracy: 0.1600 - val_loss: 1.6821 - val_accuracy: 0.1667\n",
            "Epoch 5/100\n",
            "5/5 [==============================] - 0s 13ms/step - loss: 1.6658 - accuracy: 0.1631 - val_loss: 1.6444 - val_accuracy: 0.2000\n",
            "Epoch 6/100\n",
            "5/5 [==============================] - 0s 12ms/step - loss: 1.6386 - accuracy: 0.1917 - val_loss: 1.6110 - val_accuracy: 0.2000\n",
            "Epoch 7/100\n",
            "5/5 [==============================] - 0s 12ms/step - loss: 1.6283 - accuracy: 0.2095 - val_loss: 1.5806 - val_accuracy: 0.2333\n",
            "Epoch 8/100\n",
            "5/5 [==============================] - 0s 17ms/step - loss: 1.6138 - accuracy: 0.2359 - val_loss: 1.5520 - val_accuracy: 0.3000\n",
            "Epoch 9/100\n",
            "5/5 [==============================] - 0s 13ms/step - loss: 1.5764 - accuracy: 0.2594 - val_loss: 1.5265 - val_accuracy: 0.3000\n",
            "Epoch 10/100\n",
            "5/5 [==============================] - 0s 14ms/step - loss: 1.5757 - accuracy: 0.2811 - val_loss: 1.5030 - val_accuracy: 0.3000\n",
            "Epoch 11/100\n",
            "5/5 [==============================] - 0s 12ms/step - loss: 1.5345 - accuracy: 0.2746 - val_loss: 1.4804 - val_accuracy: 0.3667\n",
            "Epoch 12/100\n",
            "5/5 [==============================] - 0s 13ms/step - loss: 1.5291 - accuracy: 0.2917 - val_loss: 1.4587 - val_accuracy: 0.4333\n",
            "Epoch 13/100\n",
            "5/5 [==============================] - 0s 14ms/step - loss: 1.4974 - accuracy: 0.3585 - val_loss: 1.4374 - val_accuracy: 0.4667\n",
            "Epoch 14/100\n",
            "5/5 [==============================] - 0s 13ms/step - loss: 1.4856 - accuracy: 0.3633 - val_loss: 1.4165 - val_accuracy: 0.5000\n",
            "Epoch 15/100\n",
            "5/5 [==============================] - 0s 13ms/step - loss: 1.4471 - accuracy: 0.4555 - val_loss: 1.3970 - val_accuracy: 0.5000\n",
            "Epoch 16/100\n",
            "5/5 [==============================] - 0s 13ms/step - loss: 1.4515 - accuracy: 0.4607 - val_loss: 1.3764 - val_accuracy: 0.5000\n",
            "Epoch 17/100\n",
            "5/5 [==============================] - 0s 13ms/step - loss: 1.4231 - accuracy: 0.4979 - val_loss: 1.3556 - val_accuracy: 0.5333\n",
            "Epoch 18/100\n",
            "5/5 [==============================] - 0s 15ms/step - loss: 1.3906 - accuracy: 0.5351 - val_loss: 1.3352 - val_accuracy: 0.5667\n",
            "Epoch 19/100\n",
            "5/5 [==============================] - 0s 15ms/step - loss: 1.3695 - accuracy: 0.5455 - val_loss: 1.3150 - val_accuracy: 0.6000\n",
            "Epoch 20/100\n",
            "5/5 [==============================] - 0s 18ms/step - loss: 1.3541 - accuracy: 0.5760 - val_loss: 1.2943 - val_accuracy: 0.6000\n",
            "Epoch 21/100\n",
            "5/5 [==============================] - 0s 13ms/step - loss: 1.3296 - accuracy: 0.5866 - val_loss: 1.2742 - val_accuracy: 0.6000\n",
            "Epoch 22/100\n",
            "5/5 [==============================] - 0s 15ms/step - loss: 1.3203 - accuracy: 0.5813 - val_loss: 1.2527 - val_accuracy: 0.6000\n",
            "Epoch 23/100\n",
            "5/5 [==============================] - 0s 13ms/step - loss: 1.2958 - accuracy: 0.6031 - val_loss: 1.2310 - val_accuracy: 0.6000\n",
            "Epoch 24/100\n",
            "5/5 [==============================] - 0s 15ms/step - loss: 1.2984 - accuracy: 0.5819 - val_loss: 1.2095 - val_accuracy: 0.6000\n",
            "Epoch 25/100\n",
            "5/5 [==============================] - 0s 13ms/step - loss: 1.2788 - accuracy: 0.5896 - val_loss: 1.1872 - val_accuracy: 0.6000\n",
            "Epoch 26/100\n",
            "5/5 [==============================] - 0s 13ms/step - loss: 1.2474 - accuracy: 0.6189 - val_loss: 1.1660 - val_accuracy: 0.6000\n",
            "Epoch 27/100\n",
            "5/5 [==============================] - 0s 12ms/step - loss: 1.2437 - accuracy: 0.5892 - val_loss: 1.1463 - val_accuracy: 0.6333\n",
            "Epoch 28/100\n",
            "5/5 [==============================] - 0s 13ms/step - loss: 1.2102 - accuracy: 0.5998 - val_loss: 1.1257 - val_accuracy: 0.6000\n",
            "Epoch 29/100\n",
            "5/5 [==============================] - 0s 13ms/step - loss: 1.2131 - accuracy: 0.6076 - val_loss: 1.1051 - val_accuracy: 0.6000\n",
            "Epoch 30/100\n",
            "5/5 [==============================] - 0s 12ms/step - loss: 1.1878 - accuracy: 0.6023 - val_loss: 1.0859 - val_accuracy: 0.6000\n",
            "Epoch 31/100\n",
            "5/5 [==============================] - 0s 15ms/step - loss: 1.2028 - accuracy: 0.5864 - val_loss: 1.0687 - val_accuracy: 0.6000\n",
            "Epoch 32/100\n",
            "5/5 [==============================] - 0s 14ms/step - loss: 1.1569 - accuracy: 0.6012 - val_loss: 1.0521 - val_accuracy: 0.6000\n",
            "Epoch 33/100\n",
            "5/5 [==============================] - 0s 14ms/step - loss: 1.1589 - accuracy: 0.5948 - val_loss: 1.0363 - val_accuracy: 0.6000\n",
            "Epoch 34/100\n",
            "5/5 [==============================] - 0s 13ms/step - loss: 1.1212 - accuracy: 0.5858 - val_loss: 1.0214 - val_accuracy: 0.6333\n",
            "Epoch 35/100\n",
            "5/5 [==============================] - 0s 12ms/step - loss: 1.1133 - accuracy: 0.6089 - val_loss: 1.0067 - val_accuracy: 0.6333\n",
            "Epoch 36/100\n",
            "5/5 [==============================] - 0s 14ms/step - loss: 1.1041 - accuracy: 0.5937 - val_loss: 0.9933 - val_accuracy: 0.6333\n",
            "Epoch 37/100\n",
            "5/5 [==============================] - 0s 13ms/step - loss: 1.0937 - accuracy: 0.5816 - val_loss: 0.9806 - val_accuracy: 0.6333\n",
            "Epoch 38/100\n",
            "5/5 [==============================] - 0s 13ms/step - loss: 1.0545 - accuracy: 0.6033 - val_loss: 0.9678 - val_accuracy: 0.6667\n",
            "Epoch 39/100\n",
            "5/5 [==============================] - 0s 14ms/step - loss: 1.0401 - accuracy: 0.6352 - val_loss: 0.9567 - val_accuracy: 0.6667\n",
            "Epoch 40/100\n",
            "5/5 [==============================] - 0s 16ms/step - loss: 1.0591 - accuracy: 0.5936 - val_loss: 0.9458 - val_accuracy: 0.6667\n",
            "Epoch 41/100\n",
            "5/5 [==============================] - 0s 15ms/step - loss: 1.0404 - accuracy: 0.6115 - val_loss: 0.9364 - val_accuracy: 0.6667\n",
            "Epoch 42/100\n",
            "5/5 [==============================] - 0s 15ms/step - loss: 1.0580 - accuracy: 0.5859 - val_loss: 0.9276 - val_accuracy: 0.6667\n",
            "Epoch 43/100\n",
            "5/5 [==============================] - 0s 15ms/step - loss: 1.0105 - accuracy: 0.6193 - val_loss: 0.9186 - val_accuracy: 0.6667\n",
            "Epoch 44/100\n",
            "5/5 [==============================] - 0s 15ms/step - loss: 1.0099 - accuracy: 0.6236 - val_loss: 0.9104 - val_accuracy: 0.6667\n",
            "Epoch 45/100\n",
            "5/5 [==============================] - 0s 14ms/step - loss: 1.0401 - accuracy: 0.5941 - val_loss: 0.9033 - val_accuracy: 0.6667\n",
            "Epoch 46/100\n",
            "5/5 [==============================] - 0s 17ms/step - loss: 1.0072 - accuracy: 0.6071 - val_loss: 0.8964 - val_accuracy: 0.6667\n",
            "Epoch 47/100\n",
            "5/5 [==============================] - 0s 14ms/step - loss: 0.9523 - accuracy: 0.6396 - val_loss: 0.8894 - val_accuracy: 0.6667\n",
            "Epoch 48/100\n",
            "5/5 [==============================] - 0s 14ms/step - loss: 1.0231 - accuracy: 0.6083 - val_loss: 0.8829 - val_accuracy: 0.6667\n",
            "Epoch 49/100\n",
            "5/5 [==============================] - 0s 12ms/step - loss: 0.9747 - accuracy: 0.6330 - val_loss: 0.8764 - val_accuracy: 0.6667\n",
            "Epoch 50/100\n",
            "5/5 [==============================] - 0s 12ms/step - loss: 0.9861 - accuracy: 0.6268 - val_loss: 0.8702 - val_accuracy: 0.6667\n",
            "Epoch 51/100\n",
            "5/5 [==============================] - 0s 12ms/step - loss: 0.9517 - accuracy: 0.6387 - val_loss: 0.8650 - val_accuracy: 0.6667\n",
            "Epoch 52/100\n",
            "5/5 [==============================] - 0s 13ms/step - loss: 0.9933 - accuracy: 0.6338 - val_loss: 0.8598 - val_accuracy: 0.6667\n",
            "Epoch 53/100\n",
            "5/5 [==============================] - 0s 12ms/step - loss: 0.9719 - accuracy: 0.6324 - val_loss: 0.8558 - val_accuracy: 0.6667\n",
            "Epoch 54/100\n",
            "5/5 [==============================] - 0s 15ms/step - loss: 0.9369 - accuracy: 0.6711 - val_loss: 0.8507 - val_accuracy: 0.6667\n",
            "Epoch 55/100\n",
            "5/5 [==============================] - 0s 14ms/step - loss: 0.9272 - accuracy: 0.6669 - val_loss: 0.8471 - val_accuracy: 0.6667\n",
            "Epoch 56/100\n",
            "5/5 [==============================] - 0s 15ms/step - loss: 0.9322 - accuracy: 0.6572 - val_loss: 0.8440 - val_accuracy: 0.6667\n",
            "Epoch 57/100\n",
            "5/5 [==============================] - 0s 14ms/step - loss: 0.9620 - accuracy: 0.6480 - val_loss: 0.8409 - val_accuracy: 0.6667\n",
            "Epoch 58/100\n",
            "5/5 [==============================] - 0s 16ms/step - loss: 0.9145 - accuracy: 0.6781 - val_loss: 0.8378 - val_accuracy: 0.6667\n",
            "Epoch 59/100\n",
            "5/5 [==============================] - 0s 13ms/step - loss: 0.9511 - accuracy: 0.6583 - val_loss: 0.8346 - val_accuracy: 0.6667\n",
            "Epoch 60/100\n",
            "5/5 [==============================] - 0s 14ms/step - loss: 0.9116 - accuracy: 0.6890 - val_loss: 0.8325 - val_accuracy: 0.6667\n",
            "Epoch 61/100\n",
            "5/5 [==============================] - 0s 13ms/step - loss: 0.9241 - accuracy: 0.6790 - val_loss: 0.8308 - val_accuracy: 0.6667\n",
            "Epoch 62/100\n",
            "5/5 [==============================] - 0s 12ms/step - loss: 0.9344 - accuracy: 0.6657 - val_loss: 0.8302 - val_accuracy: 0.6667\n",
            "Epoch 63/100\n",
            "5/5 [==============================] - 0s 13ms/step - loss: 0.9503 - accuracy: 0.6619 - val_loss: 0.8287 - val_accuracy: 0.6667\n",
            "Epoch 64/100\n",
            "5/5 [==============================] - 0s 12ms/step - loss: 0.9243 - accuracy: 0.6750 - val_loss: 0.8255 - val_accuracy: 0.6667\n",
            "Epoch 65/100\n",
            "5/5 [==============================] - 0s 14ms/step - loss: 0.9281 - accuracy: 0.6717 - val_loss: 0.8221 - val_accuracy: 0.6667\n",
            "Epoch 66/100\n",
            "5/5 [==============================] - 0s 14ms/step - loss: 0.9242 - accuracy: 0.6685 - val_loss: 0.8182 - val_accuracy: 0.6667\n",
            "Epoch 67/100\n",
            "5/5 [==============================] - 0s 15ms/step - loss: 0.8763 - accuracy: 0.7037 - val_loss: 0.8141 - val_accuracy: 0.6667\n",
            "Epoch 68/100\n",
            "5/5 [==============================] - 0s 15ms/step - loss: 0.9316 - accuracy: 0.6644 - val_loss: 0.8106 - val_accuracy: 0.6667\n",
            "Epoch 69/100\n",
            "5/5 [==============================] - 0s 14ms/step - loss: 0.9140 - accuracy: 0.6652 - val_loss: 0.8075 - val_accuracy: 0.6667\n",
            "Epoch 70/100\n",
            "5/5 [==============================] - 0s 15ms/step - loss: 0.8718 - accuracy: 0.6796 - val_loss: 0.8055 - val_accuracy: 0.6667\n",
            "Epoch 71/100\n",
            "5/5 [==============================] - 0s 17ms/step - loss: 0.8582 - accuracy: 0.6928 - val_loss: 0.8025 - val_accuracy: 0.6667\n",
            "Epoch 72/100\n",
            "5/5 [==============================] - 0s 15ms/step - loss: 0.9202 - accuracy: 0.6640 - val_loss: 0.7997 - val_accuracy: 0.6667\n",
            "Epoch 73/100\n",
            "5/5 [==============================] - 0s 15ms/step - loss: 0.8875 - accuracy: 0.6649 - val_loss: 0.7974 - val_accuracy: 0.6667\n",
            "Epoch 74/100\n",
            "5/5 [==============================] - 0s 15ms/step - loss: 0.9588 - accuracy: 0.6297 - val_loss: 0.7969 - val_accuracy: 0.6667\n",
            "Epoch 75/100\n",
            "5/5 [==============================] - 0s 15ms/step - loss: 0.8721 - accuracy: 0.6901 - val_loss: 0.7952 - val_accuracy: 0.6667\n",
            "Epoch 76/100\n",
            "5/5 [==============================] - 0s 15ms/step - loss: 0.9184 - accuracy: 0.6486 - val_loss: 0.7929 - val_accuracy: 0.6667\n",
            "Epoch 77/100\n",
            "5/5 [==============================] - 0s 13ms/step - loss: 0.8864 - accuracy: 0.6710 - val_loss: 0.7901 - val_accuracy: 0.7000\n",
            "Epoch 78/100\n",
            "5/5 [==============================] - 0s 12ms/step - loss: 0.9187 - accuracy: 0.6570 - val_loss: 0.7871 - val_accuracy: 0.7000\n",
            "Epoch 79/100\n",
            "5/5 [==============================] - 0s 15ms/step - loss: 0.8896 - accuracy: 0.6500 - val_loss: 0.7832 - val_accuracy: 0.7000\n",
            "Epoch 80/100\n",
            "5/5 [==============================] - 0s 13ms/step - loss: 0.8688 - accuracy: 0.6823 - val_loss: 0.7794 - val_accuracy: 0.7000\n",
            "Epoch 81/100\n",
            "5/5 [==============================] - 0s 14ms/step - loss: 0.8761 - accuracy: 0.6580 - val_loss: 0.7756 - val_accuracy: 0.7000\n",
            "Epoch 82/100\n",
            "5/5 [==============================] - 0s 16ms/step - loss: 0.8718 - accuracy: 0.6565 - val_loss: 0.7720 - val_accuracy: 0.7000\n",
            "Epoch 83/100\n",
            "5/5 [==============================] - 0s 16ms/step - loss: 0.8858 - accuracy: 0.6635 - val_loss: 0.7690 - val_accuracy: 0.6667\n",
            "Epoch 84/100\n",
            "5/5 [==============================] - 0s 14ms/step - loss: 0.8573 - accuracy: 0.6717 - val_loss: 0.7684 - val_accuracy: 0.6667\n",
            "Epoch 85/100\n",
            "5/5 [==============================] - 0s 12ms/step - loss: 0.8717 - accuracy: 0.6567 - val_loss: 0.7689 - val_accuracy: 0.6667\n",
            "Epoch 86/100\n",
            "5/5 [==============================] - 0s 13ms/step - loss: 0.8673 - accuracy: 0.6669 - val_loss: 0.7707 - val_accuracy: 0.7000\n",
            "Epoch 87/100\n",
            "5/5 [==============================] - 0s 15ms/step - loss: 0.8931 - accuracy: 0.6513 - val_loss: 0.7721 - val_accuracy: 0.7000\n",
            "Epoch 88/100\n",
            "5/5 [==============================] - 0s 13ms/step - loss: 0.8330 - accuracy: 0.6793 - val_loss: 0.7728 - val_accuracy: 0.7000\n",
            "Epoch 89/100\n",
            "5/5 [==============================] - 0s 13ms/step - loss: 0.8125 - accuracy: 0.6921 - val_loss: 0.7726 - val_accuracy: 0.7000\n",
            "Epoch 90/100\n",
            "5/5 [==============================] - 0s 13ms/step - loss: 0.8542 - accuracy: 0.6786 - val_loss: 0.7712 - val_accuracy: 0.7000\n",
            "Epoch 91/100\n",
            "5/5 [==============================] - 0s 13ms/step - loss: 0.8831 - accuracy: 0.6521 - val_loss: 0.7688 - val_accuracy: 0.7000\n",
            "Epoch 92/100\n",
            "5/5 [==============================] - 0s 14ms/step - loss: 0.8951 - accuracy: 0.6484 - val_loss: 0.7674 - val_accuracy: 0.7000\n",
            "Epoch 93/100\n",
            "5/5 [==============================] - 0s 14ms/step - loss: 0.8872 - accuracy: 0.6447 - val_loss: 0.7663 - val_accuracy: 0.7000\n",
            "Epoch 94/100\n",
            "5/5 [==============================] - 0s 12ms/step - loss: 0.8245 - accuracy: 0.6801 - val_loss: 0.7651 - val_accuracy: 0.7000\n",
            "Epoch 95/100\n",
            "5/5 [==============================] - 0s 13ms/step - loss: 0.8847 - accuracy: 0.6540 - val_loss: 0.7632 - val_accuracy: 0.7000\n",
            "Epoch 96/100\n",
            "5/5 [==============================] - 0s 14ms/step - loss: 0.8355 - accuracy: 0.6764 - val_loss: 0.7622 - val_accuracy: 0.7000\n",
            "Epoch 97/100\n",
            "5/5 [==============================] - 0s 13ms/step - loss: 0.8639 - accuracy: 0.6605 - val_loss: 0.7602 - val_accuracy: 0.7000\n",
            "Epoch 98/100\n",
            "5/5 [==============================] - 0s 13ms/step - loss: 0.8427 - accuracy: 0.6802 - val_loss: 0.7577 - val_accuracy: 0.7000\n",
            "Epoch 99/100\n",
            "5/5 [==============================] - 0s 13ms/step - loss: 0.8584 - accuracy: 0.6748 - val_loss: 0.7544 - val_accuracy: 0.7000\n",
            "Epoch 100/100\n",
            "5/5 [==============================] - 0s 13ms/step - loss: 0.8578 - accuracy: 0.6732 - val_loss: 0.7527 - val_accuracy: 0.7000\n"
          ],
          "name": "stdout"
        }
      ]
    },
    {
      "cell_type": "code",
      "metadata": {
        "id": "qZO5Phm531fQ"
      },
      "source": [
        "y_pred = model.predict(X_test)\n",
        "#Converting predictions to label\n",
        "pred = list()\n",
        "for i in range(len(y_pred)):\n",
        "    pred.append(np.argmax(y_pred[i]))\n",
        "#Converting one hot encoded test label to label\n",
        "test = list()\n",
        "for i in range(len(y_test)):\n",
        "    test.append(np.argmax(y_test[i]))"
      ],
      "execution_count": null,
      "outputs": []
    },
    {
      "cell_type": "code",
      "metadata": {
        "colab": {
          "base_uri": "https://localhost:8080/"
        },
        "id": "58RC7dKWGrzx",
        "outputId": "e4b0c598-0d59-4b92-ac34-eb3a1f4811f7"
      },
      "source": [
        "from sklearn.metrics import accuracy_score\n",
        "a = accuracy_score(pred,test)\n",
        "print('Accuracy is:', a*100)"
      ],
      "execution_count": null,
      "outputs": [
        {
          "output_type": "stream",
          "text": [
            "Accuracy is: 70.0\n"
          ],
          "name": "stdout"
        }
      ]
    },
    {
      "cell_type": "code",
      "metadata": {
        "colab": {
          "base_uri": "https://localhost:8080/",
          "height": 295
        },
        "id": "x8Ir8lOFQPPC",
        "outputId": "a83b0a16-f856-47c2-825d-08f107c7d201"
      },
      "source": [
        "import matplotlib.pyplot as plt\n",
        "plt.plot(history.history['accuracy'])\n",
        "plt.plot(history.history['val_accuracy'])\n",
        "plt.title('Model accuracy')\n",
        "plt.ylabel('Accuracy')\n",
        "plt.xlabel('Epoch')\n",
        "plt.legend(['Train', 'Test'], loc='upper left')\n",
        "plt.show()"
      ],
      "execution_count": null,
      "outputs": [
        {
          "output_type": "display_data",
          "data": {
            "image/png": "[encoded data removed]",
            "text/plain": [
              "<Figure size 432x288 with 1 Axes>"
            ]
          },
          "metadata": {
            "tags": [],
            "needs_background": "light"
          }
        }
      ]
    },
    {
      "cell_type": "code",
      "metadata": {
        "colab": {
          "base_uri": "https://localhost:8080/",
          "height": 295
        },
        "id": "did7QSs2RUli",
        "outputId": "30dab1fe-da53-4d79-a884-9301e907bed6"
      },
      "source": [
        "plt.plot(history.history['loss'])\n",
        "plt.plot(history.history['val_loss']) \n",
        "plt.title('Model loss') \n",
        "plt.ylabel('Loss') \n",
        "plt.xlabel('Epoch') \n",
        "plt.legend(['Train', 'Test'], loc='upper left') \n",
        "plt.show()"
      ],
      "execution_count": null,
      "outputs": [
        {
          "output_type": "display_data",
          "data": {
            "image/png": "[encoded data removed]",
            "text/plain": [
              "<Figure size 432x288 with 1 Axes>"
            ]
          },
          "metadata": {
            "tags": [],
            "needs_background": "light"
          }
        }
      ]
    },
    {
      "cell_type": "code",
      "metadata": {
        "id": "FQJ674-P4Vhw"
      },
      "source": [
        "# y_pred = model.predict(X_test)\n",
        "# #Converting predictions to label\n",
        "# pred = list()\n",
        "# for i in range(len(y_pred)):\n",
        "#     pred.append(np.argmax(y_pred[i]))\n",
        "# #Converting one hot encoded test label to label\n",
        "# test = list()\n",
        "# for i in range(len(y_test)):\n",
        "#     test.append(np.argmax(y_test[i]))"
      ],
      "execution_count": null,
      "outputs": []
    },
    {
      "cell_type": "code",
      "metadata": {
        "id": "mIrXaGwG4b6j"
      },
      "source": [
        "# from sklearn.metrics import accuracy_score\n",
        "# a = accuracy_score(pred,test)\n",
        "# print('Accuracy is:', a*100)"
      ],
      "execution_count": null,
      "outputs": []
    }
  ]
}